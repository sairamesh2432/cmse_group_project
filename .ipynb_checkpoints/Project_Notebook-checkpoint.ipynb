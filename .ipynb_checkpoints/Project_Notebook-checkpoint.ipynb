{
 "cells": [
  {
   "cell_type": "code",
   "execution_count": 1,
   "metadata": {},
   "outputs": [],
   "source": [
    "import pandas as pd\n",
    "import numpy as np\n",
    "from sklearn.feature_selection import SelectKBest\n",
    "from sklearn.feature_selection import f_regression\n",
    "from sklearn.model_selection import train_test_split\n",
    "from sklearn.ensemble import RandomForestRegressor\n",
    "from sklearn import metrics\n",
    "from numpy import set_printoptions\n",
    "from sklearn.feature_selection import SelectFromModel\n",
    "from sklearn.preprocessing import LabelEncoder\n",
    "import matplotlib.pyplot as plt"
   ]
  },
  {
   "cell_type": "code",
   "execution_count": 2,
   "metadata": {},
   "outputs": [],
   "source": [
    "import warnings\n",
    "warnings.filterwarnings(\"ignore\", category=RuntimeWarning) "
   ]
  },
  {
   "cell_type": "code",
   "execution_count": 3,
   "metadata": {},
   "outputs": [],
   "source": [
    "ames_data = pd.read_csv(\"AmesHousing.csv\")\n",
    "is_na_mask = ames_data.isna().sum()\n",
    "missing_columns = is_na_mask[is_na_mask > 1000].index #these are the columns with over 1000 missing values, I want them gone\n",
    "ames_data.drop(columns = missing_columns, inplace = True)\n",
    "ames_data.dropna(inplace=True)"
   ]
  },
  {
   "cell_type": "markdown",
   "metadata": {},
   "source": [
    "We will now separate the data into numerical data, categorical data, and a combination of the two."
   ]
  },
  {
   "cell_type": "code",
   "execution_count": 4,
   "metadata": {},
   "outputs": [],
   "source": [
    "#the numerical data\n",
    "numerical_columns = ames_data.describe().columns\n",
    "numerical_ames_data = ames_data[numerical_columns]\n",
    "numerical_ames_data = numerical_ames_data.dropna()"
   ]
  },
  {
   "cell_type": "code",
   "execution_count": 6,
   "metadata": {},
   "outputs": [
    {
     "name": "stderr",
     "output_type": "stream",
     "text": [
      "/opt/anaconda3/lib/python3.7/site-packages/ipykernel_launcher.py:7: FutureWarning: The join_axes-keyword is deprecated. Use .reindex or .reindex_like on the result to achieve the same functionality.\n",
      "  import sys\n"
     ]
    }
   ],
   "source": [
    "#the categorical and combined data\n",
    "#learned how to encode categorical columns from: https://medium.com/byteridge/encoding-categorical-values-in-python-scikit-learn-51b04b4bb5fa\n",
    "categorical_columns = set(ames_data.columns).difference(set(numerical_columns))\n",
    "categorical_df = ames_data[categorical_columns]\n",
    "le = LabelEncoder()\n",
    "encoded_categorical_df = categorical_df.astype(str).apply(le.fit_transform) #essentially this is transforming the categorical data into numerical \n",
    "combined_df = pd.concat([numerical_ames_data, encoded_categorical_df], axis=1, join_axes=[encoded_categorical_df.index]) #the encoded categorical data + the numerical data\n",
    "encoded_categorical_df[\"SalePrice\"] = ames_data[\"SalePrice\"]"
   ]
  },
  {
   "cell_type": "code",
   "execution_count": 7,
   "metadata": {},
   "outputs": [],
   "source": [
    "class Best_Features:\n",
    "    '''Extracts the most important features in predicting house sale price using random forest and univariate selection techniques'''\n",
    "    def __init__(self, k, input_df):\n",
    "        '''K is the number of features you want displayed, input_df is the particular dataframe you're using'''\n",
    "        self.k = k\n",
    "        self.input_df = input_df\n",
    "    \n",
    "    def features_and_labels_generator(self):\n",
    "        '''Splits the input dataframe into feature and label vectors'''\n",
    "        feature_columns = set(self.input_df.columns).difference(set([\"SalePrice\"]))\n",
    "        feature_vectors = np.array(self.input_df[feature_columns])\n",
    "        class_labels = np.array(self.input_df[\"SalePrice\"])\n",
    "        return (feature_vectors, class_labels)\n",
    "        \n",
    "    def univariate_feature_selector(self):\n",
    "        '''returns k best features for dataset based on univariate selection'''\n",
    "        x,y = self.features_and_labels_generator()\n",
    "        fs = SelectKBest(score_func=f_regression, k=self.k)\n",
    "        # apply feature selection\n",
    "        fit = fs.fit_transform(x, y)\n",
    "        univariate_feature_columns = self.input_df.columns[fs.get_support(indices=True)]\n",
    "        return univariate_feature_columns\n",
    "    \n",
    "    def random_forest_feature_selector(self):\n",
    "        '''returns k best features for dataset based on random forest model'''\n",
    "        x,y = self.features_and_labels_generator()\n",
    "        total_x_train, total_x_test, total_y_train, total_y_test = train_test_split(x, y, test_size=0.25)\n",
    "        feat_select_clf = RandomForestRegressor(n_estimators = 100, random_state=0)\n",
    "        feat_select_clf.fit(total_x_train, total_y_train)\n",
    "        important_features = list(zip(self.input_df.columns,feat_select_clf.feature_importances_))\n",
    "        important_features.sort(key = lambda pair: pair[1], reverse = True)\n",
    "        random_f_best_features = [pair[0] for pair in important_features[0:self.k]]\n",
    "        return random_f_best_features\n",
    "    \n",
    "    def total_best_features(self):\n",
    "        '''returns dataframe of intersection of univariate and random_forest features'''\n",
    "        univariate_best_features = self.univariate_feature_selector()\n",
    "        random_f_best_features = self.random_forest_feature_selector()\n",
    "        total_best_features = list(set(univariate_best_features) & set(random_f_best_features))\n",
    "        best_features_df = self.input_df[total_best_features]\n",
    "        return best_features_df\n",
    "        "
   ]
  },
  {
   "cell_type": "code",
   "execution_count": 8,
   "metadata": {},
   "outputs": [],
   "source": [
    "numerical_features_obj = Best_Features(k=25,input_df=numerical_ames_data)\n",
    "best_numerical_features = numerical_features_obj.total_best_features()"
   ]
  },
  {
   "cell_type": "code",
   "execution_count": 9,
   "metadata": {},
   "outputs": [],
   "source": [
    "categorical_features_obj = Best_Features(k=25,input_df=encoded_categorical_df)\n",
    "best_categorical_features = categorical_features_obj.total_best_features()"
   ]
  },
  {
   "cell_type": "code",
   "execution_count": 10,
   "metadata": {},
   "outputs": [],
   "source": [
    "combined_features_obj = Best_Features(k=25, input_df=combined_df)\n",
    "combined_features_obj.univariate_feature_selector()\n",
    "best_combined_features = combined_features_obj.total_best_features()"
   ]
  },
  {
   "cell_type": "code",
   "execution_count": 11,
   "metadata": {},
   "outputs": [],
   "source": [
    "def random_forest_predictor(input_features, input_labels = ames_data[\"SalePrice\"]):\n",
    "    '''function that takes in the best features for a given dataframe and returns the r squared value \n",
    "    as well as the root mean squared error using Random Forest Regression'''\n",
    "    X_train, X_test, y_train, y_test = train_test_split(input_features, input_labels, test_size=0.25)\n",
    "    regr = RandomForestRegressor(n_estimators=100, random_state=0)\n",
    "    regr.fit(X_train, y_train)\n",
    "    y_pred = regr.predict(X_test)\n",
    "    root_mean_squared_error = np.sqrt(metrics.mean_squared_error(y_test, y_pred))\n",
    "    r_squared_value = metrics.r2_score(y_test, y_pred)\n",
    "    return (root_mean_squared_error, r_squared_value)"
   ]
  },
  {
   "cell_type": "code",
   "execution_count": 12,
   "metadata": {},
   "outputs": [],
   "source": [
    "r2_list = []\n",
    "error_list = []\n",
    "feature_list = [best_categorical_features, best_numerical_features, best_combined_features]\n",
    "label_list = [\"Categorical Only\", \"Numerical Only\", \"Both\"]\n",
    "i = 0\n",
    "for feature_df in feature_list:\n",
    "    error, r2 = random_forest_predictor(input_features=feature_df)\n",
    "    r2_list.append(r2)\n",
    "    error_list.append(error)"
   ]
  },
  {
   "cell_type": "code",
   "execution_count": 13,
   "metadata": {},
   "outputs": [
    {
     "data": {
      "image/png": "[encoded data removed]",
      "text/plain": [
       "<Figure size 720x504 with 2 Axes>"
      ]
     },
     "metadata": {
      "needs_background": "light"
     },
     "output_type": "display_data"
    }
   ],
   "source": [
    "plt.figure(figsize=(10,7))\n",
    "\n",
    "\n",
    "plt.subplot(2,1,1)\n",
    "plt.bar(label_list, r2_list)\n",
    "plt.title(\"R-squared value by Data Type\")\n",
    "\n",
    "\n",
    "plt.subplot(2,1,2)\n",
    "plt.bar(label_list, error_list)\n",
    "plt.title(\"Root mean squared error by Data Type\")\n",
    "plt.tight_layout()\n"
   ]
  },
  {
   "cell_type": "markdown",
   "metadata": {},
   "source": [
    "So for the features for your chosen model, you can use either the best_numerical_features, best_categorical_features, or best_combined_features variables. The labels will be ames_data[\"SalePrice\"]."
   ]
  },
  {
   "cell_type": "code",
   "execution_count": 19,
   "metadata": {},
   "outputs": [
    {
     "data": {
      "text/html": [
       "<div>\n",
       "<style scoped>\n",
       "    .dataframe tbody tr th:only-of-type {\n",
       "        vertical-align: middle;\n",
       "    }\n",
       "\n",
       "    .dataframe tbody tr th {\n",
       "        vertical-align: top;\n",
       "    }\n",
       "\n",
       "    .dataframe thead th {\n",
       "        text-align: right;\n",
       "    }\n",
       "</style>\n",
       "<table border=\"1\" class=\"dataframe\">\n",
       "  <thead>\n",
       "    <tr style=\"text-align: right;\">\n",
       "      <th></th>\n",
       "      <th>Lot Area</th>\n",
       "      <th>Fireplaces</th>\n",
       "      <th>Bsmt Unf SF</th>\n",
       "      <th>PID</th>\n",
       "      <th>Open Porch SF</th>\n",
       "      <th>Year Built</th>\n",
       "      <th>Mo Sold</th>\n",
       "      <th>Garage Yr Blt</th>\n",
       "      <th>MS SubClass</th>\n",
       "      <th>Full Bath</th>\n",
       "      <th>...</th>\n",
       "      <th>3Ssn Porch</th>\n",
       "      <th>Low Qual Fin SF</th>\n",
       "      <th>Lot Frontage</th>\n",
       "      <th>Misc Val</th>\n",
       "      <th>Overall Qual</th>\n",
       "      <th>Yr Sold</th>\n",
       "      <th>Year Remod/Add</th>\n",
       "      <th>Bsmt Full Bath</th>\n",
       "      <th>Mas Vnr Area</th>\n",
       "      <th>Gr Liv Area</th>\n",
       "    </tr>\n",
       "  </thead>\n",
       "  <tbody>\n",
       "    <tr>\n",
       "      <td>0</td>\n",
       "      <td>31770</td>\n",
       "      <td>2</td>\n",
       "      <td>441.0</td>\n",
       "      <td>526301100</td>\n",
       "      <td>62</td>\n",
       "      <td>1960</td>\n",
       "      <td>5</td>\n",
       "      <td>1960.0</td>\n",
       "      <td>20</td>\n",
       "      <td>1</td>\n",
       "      <td>...</td>\n",
       "      <td>0</td>\n",
       "      <td>0</td>\n",
       "      <td>141.0</td>\n",
       "      <td>0</td>\n",
       "      <td>6</td>\n",
       "      <td>2010</td>\n",
       "      <td>1960</td>\n",
       "      <td>1.0</td>\n",
       "      <td>112.0</td>\n",
       "      <td>1656</td>\n",
       "    </tr>\n",
       "    <tr>\n",
       "      <td>1</td>\n",
       "      <td>11622</td>\n",
       "      <td>0</td>\n",
       "      <td>270.0</td>\n",
       "      <td>526350040</td>\n",
       "      <td>0</td>\n",
       "      <td>1961</td>\n",
       "      <td>6</td>\n",
       "      <td>1961.0</td>\n",
       "      <td>20</td>\n",
       "      <td>1</td>\n",
       "      <td>...</td>\n",
       "      <td>0</td>\n",
       "      <td>0</td>\n",
       "      <td>80.0</td>\n",
       "      <td>0</td>\n",
       "      <td>5</td>\n",
       "      <td>2010</td>\n",
       "      <td>1961</td>\n",
       "      <td>0.0</td>\n",
       "      <td>0.0</td>\n",
       "      <td>896</td>\n",
       "    </tr>\n",
       "    <tr>\n",
       "      <td>2</td>\n",
       "      <td>14267</td>\n",
       "      <td>0</td>\n",
       "      <td>406.0</td>\n",
       "      <td>526351010</td>\n",
       "      <td>36</td>\n",
       "      <td>1958</td>\n",
       "      <td>6</td>\n",
       "      <td>1958.0</td>\n",
       "      <td>20</td>\n",
       "      <td>1</td>\n",
       "      <td>...</td>\n",
       "      <td>0</td>\n",
       "      <td>0</td>\n",
       "      <td>81.0</td>\n",
       "      <td>12500</td>\n",
       "      <td>6</td>\n",
       "      <td>2010</td>\n",
       "      <td>1958</td>\n",
       "      <td>0.0</td>\n",
       "      <td>108.0</td>\n",
       "      <td>1329</td>\n",
       "    </tr>\n",
       "    <tr>\n",
       "      <td>3</td>\n",
       "      <td>11160</td>\n",
       "      <td>2</td>\n",
       "      <td>1045.0</td>\n",
       "      <td>526353030</td>\n",
       "      <td>0</td>\n",
       "      <td>1968</td>\n",
       "      <td>4</td>\n",
       "      <td>1968.0</td>\n",
       "      <td>20</td>\n",
       "      <td>2</td>\n",
       "      <td>...</td>\n",
       "      <td>0</td>\n",
       "      <td>0</td>\n",
       "      <td>93.0</td>\n",
       "      <td>0</td>\n",
       "      <td>7</td>\n",
       "      <td>2010</td>\n",
       "      <td>1968</td>\n",
       "      <td>1.0</td>\n",
       "      <td>0.0</td>\n",
       "      <td>2110</td>\n",
       "    </tr>\n",
       "    <tr>\n",
       "      <td>4</td>\n",
       "      <td>13830</td>\n",
       "      <td>1</td>\n",
       "      <td>137.0</td>\n",
       "      <td>527105010</td>\n",
       "      <td>34</td>\n",
       "      <td>1997</td>\n",
       "      <td>3</td>\n",
       "      <td>1997.0</td>\n",
       "      <td>60</td>\n",
       "      <td>2</td>\n",
       "      <td>...</td>\n",
       "      <td>0</td>\n",
       "      <td>0</td>\n",
       "      <td>74.0</td>\n",
       "      <td>0</td>\n",
       "      <td>5</td>\n",
       "      <td>2010</td>\n",
       "      <td>1998</td>\n",
       "      <td>0.0</td>\n",
       "      <td>0.0</td>\n",
       "      <td>1629</td>\n",
       "    </tr>\n",
       "  </tbody>\n",
       "</table>\n",
       "<p>5 rows × 22 columns</p>\n",
       "</div>"
      ],
      "text/plain": [
       "   Lot Area  Fireplaces  Bsmt Unf SF        PID  Open Porch SF  Year Built  \\\n",
       "0     31770           2        441.0  526301100             62        1960   \n",
       "1     11622           0        270.0  526350040              0        1961   \n",
       "2     14267           0        406.0  526351010             36        1958   \n",
       "3     11160           2       1045.0  526353030              0        1968   \n",
       "4     13830           1        137.0  527105010             34        1997   \n",
       "\n",
       "   Mo Sold  Garage Yr Blt  MS SubClass  Full Bath  ...  3Ssn Porch  \\\n",
       "0        5         1960.0           20          1  ...           0   \n",
       "1        6         1961.0           20          1  ...           0   \n",
       "2        6         1958.0           20          1  ...           0   \n",
       "3        4         1968.0           20          2  ...           0   \n",
       "4        3         1997.0           60          2  ...           0   \n",
       "\n",
       "   Low Qual Fin SF  Lot Frontage  Misc Val  Overall Qual  Yr Sold  \\\n",
       "0                0         141.0         0             6     2010   \n",
       "1                0          80.0         0             5     2010   \n",
       "2                0          81.0     12500             6     2010   \n",
       "3                0          93.0         0             7     2010   \n",
       "4                0          74.0         0             5     2010   \n",
       "\n",
       "   Year Remod/Add  Bsmt Full Bath  Mas Vnr Area  Gr Liv Area  \n",
       "0            1960             1.0         112.0         1656  \n",
       "1            1961             0.0           0.0          896  \n",
       "2            1958             0.0         108.0         1329  \n",
       "3            1968             1.0           0.0         2110  \n",
       "4            1998             0.0           0.0         1629  \n",
       "\n",
       "[5 rows x 22 columns]"
      ]
     },
     "execution_count": 19,
     "metadata": {},
     "output_type": "execute_result"
    }
   ],
   "source": [
    "best_numerical_features.head()"
   ]
  },
  {
   "cell_type": "code",
   "execution_count": 53,
   "metadata": {},
   "outputs": [],
   "source": [
    "from sklearn import linear_model\n",
    "from sklearn.model_selection import train_test_split\n",
    "\n",
    "def Linear_Regression(input_features, input_labels = ames_data['SalePrice']):\n",
    "    #X is the chosen catergories that are going to be used for prediction\n",
    "    X = input_features\n",
    "    #y is the sales price\n",
    "    y = input_labels\n",
    "\n",
    "    #Splitting the data into training and testing\n",
    "    X_train, X_test, y_train, y_test = train_test_split(X, y, test_size=0.3)\n",
    "\n",
    "    #Using linear regression model to fit the data\n",
    "    reg = linear_model.LinearRegression()\n",
    "    reg.fit(X_train, y_train)\n",
    "    \n",
    "    y_pred = reg.predict(X_test)\n",
    "    root_mean_squared_error = np.sqrt(metrics.mean_squared_error(y_test, y_pred))\n",
    "    \n",
    "    #returns the R^2 of the predicted based on X_test and the actual y_test\n",
    "    return root_mean_squared_error, reg.score(X_test, y_test)"
   ]
  },
  {
   "cell_type": "code",
   "execution_count": 54,
   "metadata": {},
   "outputs": [],
   "source": [
    "r2_list = []\n",
    "error_list = []\n",
    "feature_list = [best_categorical_features, best_numerical_features, best_combined_features]\n",
    "label_list = [\"Categorical Only\", \"Numerical Only\", \"Both\"]\n",
    "\n",
    "for feature_df in feature_list:\n",
    "    error, r2 = Linear_Regression(input_features=feature_df)\n",
    "    r2_list.append(r2)\n",
    "    error_list.append(error)"
   ]
  },
  {
   "cell_type": "code",
   "execution_count": 55,
   "metadata": {},
   "outputs": [
    {
     "data": {
      "image/png": "[encoded data removed]",
      "text/plain": [
       "<Figure size 720x504 with 2 Axes>"
      ]
     },
     "metadata": {
      "needs_background": "light"
     },
     "output_type": "display_data"
    }
   ],
   "source": [
    "plt.figure(figsize=(10,7))\n",
    "\n",
    "\n",
    "plt.subplot(2,1,1)\n",
    "plt.bar(label_list, r2_list)\n",
    "plt.title(\"R-squared value by Data Type\")\n",
    "\n",
    "\n",
    "plt.subplot(2,1,2)\n",
    "plt.bar(label_list, error_list)\n",
    "plt.title(\"Root mean squared error by Data Type\")\n",
    "plt.tight_layout()\n"
   ]
  },
  {
   "cell_type": "code",
   "execution_count": null,
   "metadata": {},
   "outputs": [],
   "source": []
  }
 ],
 "metadata": {
  "kernelspec": {
   "display_name": "Python 3",
   "language": "python",
   "name": "python3"
  },
  "language_info": {
   "codemirror_mode": {
    "name": "ipython",
    "version": 3
   },
   "file_extension": ".py",
   "mimetype": "text/x-python",
   "name": "python",
   "nbconvert_exporter": "python",
   "pygments_lexer": "ipython3",
   "version": "3.7.4"
  }
 },
 "nbformat": 4,
 "nbformat_minor": 2
}
