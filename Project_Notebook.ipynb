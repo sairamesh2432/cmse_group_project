{
 "cells": [
  {
   "cell_type": "code",
   "execution_count": 49,
   "metadata": {},
   "outputs": [],
   "source": [
    "import pandas as pd\n",
    "import numpy as np\n",
    "from sklearn.feature_selection import SelectKBest\n",
    "from sklearn.feature_selection import f_regression\n",
    "from sklearn.model_selection import train_test_split\n",
    "from sklearn.ensemble import RandomForestRegressor\n",
    "from sklearn import metrics\n",
    "from numpy import set_printoptions\n",
    "from sklearn.feature_selection import SelectFromModel\n",
    "from sklearn.preprocessing import LabelEncoder\n",
    "import matplotlib.pyplot as plt"
   ]
  },
  {
   "cell_type": "code",
   "execution_count": 2,
   "metadata": {},
   "outputs": [],
   "source": [
    "import warnings\n",
    "warnings.filterwarnings(\"ignore\", category=RuntimeWarning) "
   ]
  },
  {
   "cell_type": "code",
   "execution_count": 21,
   "metadata": {},
   "outputs": [],
   "source": [
    "ames_data = pd.read_csv(\"AmesHousing.csv\")\n",
    "is_na_mask = ames_data.isna().sum()\n",
    "missing_columns = is_na_mask[is_na_mask > 1000].index #these are the columns with over 1000 missing values, I want them gone\n",
    "ames_data.drop(columns = missing_columns, inplace = True)\n",
    "ames_data.dropna(inplace=True)"
   ]
  },
  {
   "cell_type": "markdown",
   "metadata": {},
   "source": [
    "We will now separate the data into numerical data, categorical data, and a combination of the two."
   ]
  },
  {
   "cell_type": "code",
   "execution_count": 36,
   "metadata": {},
   "outputs": [],
   "source": [
    "#the numerical data\n",
    "numerical_columns = ames_data.describe().columns\n",
    "numerical_ames_data = ames_data[numerical_columns]\n",
    "numerical_ames_data = numerical_ames_data.dropna()"
   ]
  },
  {
   "cell_type": "code",
   "execution_count": 37,
   "metadata": {},
   "outputs": [],
   "source": [
    "#the categorical and combined data\n",
    "#learned how to encode categorical columns from: https://medium.com/byteridge/encoding-categorical-values-in-python-scikit-learn-51b04b4bb5fa\n",
    "categorical_columns = set(ames_data.columns).difference(set(numerical_columns))\n",
    "categorical_df = ames_data[categorical_columns]\n",
    "le = LabelEncoder()\n",
    "encoded_categorical_df = categorical_df.astype(str).apply(le.fit_transform) #essentially this is transforming the categorical data into numerical \n",
    "combined_df = pd.concat([numerical_ames_data, encoded_categorical_df], axis=1, join_axes=[encoded_categorical_df.index]) #the encoded categorical data + the numerical data\n",
    "encoded_categorical_df[\"SalePrice\"] = ames_data[\"SalePrice\"]"
   ]
  },
  {
   "cell_type": "code",
   "execution_count": 24,
   "metadata": {},
   "outputs": [],
   "source": [
    "class Best_Features:\n",
    "    '''Extracts the most important features in predicting house sale price using random forest and univariate selection techniques'''\n",
    "    def __init__(self, k, input_df):\n",
    "        '''K is the number of features you want displayed, input_df is the particular dataframe you're using'''\n",
    "        self.k = k\n",
    "        self.input_df = input_df\n",
    "    \n",
    "    def features_and_labels_generator(self):\n",
    "        '''Splits the input dataframe into feature and label vectors'''\n",
    "        feature_columns = set(self.input_df.columns).difference(set([\"SalePrice\"]))\n",
    "        feature_vectors = np.array(self.input_df[feature_columns])\n",
    "        class_labels = np.array(self.input_df[\"SalePrice\"])\n",
    "        return (feature_vectors, class_labels)\n",
    "        \n",
    "    def univariate_feature_selector(self):\n",
    "        '''returns k best features for dataset based on univariate selection'''\n",
    "        x,y = self.features_and_labels_generator()\n",
    "        fs = SelectKBest(score_func=f_regression, k=self.k)\n",
    "        # apply feature selection\n",
    "        fit = fs.fit_transform(x, y)\n",
    "        univariate_feature_columns = self.input_df.columns[fs.get_support(indices=True)]\n",
    "        return univariate_feature_columns\n",
    "    \n",
    "    def random_forest_feature_selector(self):\n",
    "        '''returns k best features for dataset based on random forest model'''\n",
    "        x,y = self.features_and_labels_generator()\n",
    "        total_x_train, total_x_test, total_y_train, total_y_test = train_test_split(x, y, test_size=0.25)\n",
    "        feat_select_clf = RandomForestRegressor(n_estimators = 100, random_state=0)\n",
    "        feat_select_clf.fit(total_x_train, total_y_train)\n",
    "        important_features = list(zip(self.input_df.columns,feat_select_clf.feature_importances_))\n",
    "        important_features.sort(key = lambda pair: pair[1], reverse = True)\n",
    "        random_f_best_features = [pair[0] for pair in important_features[0:self.k]]\n",
    "        return random_f_best_features\n",
    "    \n",
    "    def total_best_features(self):\n",
    "        '''returns dataframe of intersection of univariate and random_forest features'''\n",
    "        univariate_best_features = self.univariate_feature_selector()\n",
    "        random_f_best_features = self.random_forest_feature_selector()\n",
    "        total_best_features = list(set(univariate_best_features) & set(random_f_best_features))\n",
    "        best_features_df = self.input_df[total_best_features]\n",
    "        return best_features_df\n",
    "        "
   ]
  },
  {
   "cell_type": "code",
   "execution_count": 38,
   "metadata": {},
   "outputs": [],
   "source": [
    "numerical_features_obj = Best_Features(k=25,input_df=numerical_ames_data)\n",
    "best_numerical_features = numerical_features_obj.total_best_features()"
   ]
  },
  {
   "cell_type": "code",
   "execution_count": 39,
   "metadata": {},
   "outputs": [],
   "source": [
    "categorical_features_obj = Best_Features(k=25,input_df=encoded_categorical_df)\n",
    "best_categorical_features = categorical_features_obj.total_best_features()"
   ]
  },
  {
   "cell_type": "code",
   "execution_count": 40,
   "metadata": {},
   "outputs": [],
   "source": [
    "combined_features_obj = Best_Features(k=25, input_df=combined_df)\n",
    "combined_features_obj.univariate_feature_selector()\n",
    "best_combined_features = combined_features_obj.total_best_features()"
   ]
  },
  {
   "cell_type": "code",
   "execution_count": 41,
   "metadata": {},
   "outputs": [],
   "source": [
    "def random_forest_predictor(input_features, input_labels = ames_data[\"SalePrice\"]):\n",
    "    '''function that takes in the best features for a given dataframe and returns the r squared value \n",
    "    as well as the root mean squared error using Random Forest Regression'''\n",
    "    X_train, X_test, y_train, y_test = train_test_split(input_features, input_labels, test_size=0.25)\n",
    "    regr = RandomForestRegressor(n_estimators=100, random_state=0)\n",
    "    regr.fit(X_train, y_train)\n",
    "    y_pred = regr.predict(X_test)\n",
    "    root_mean_squared_error = np.sqrt(metrics.mean_squared_error(y_test, y_pred))\n",
    "    r_squared_value = metrics.r2_score(y_test, y_pred)\n",
    "    return (root_mean_squared_error, r_squared_value)"
   ]
  },
  {
   "cell_type": "code",
   "execution_count": 63,
   "metadata": {},
   "outputs": [],
   "source": [
    "r2_list = []\n",
    "error_list = []\n",
    "feature_list = [best_categorical_features, best_numerical_features, best_combined_features]\n",
    "label_list = [\"Categorical Only\", \"Numerical Only\", \"Both\"]\n",
    "i = 0\n",
    "for feature_df in feature_list:\n",
    "    error, r2 = random_forest_predictor(input_features=feature_df)\n",
    "    r2_list.append(r2)\n",
    "    error_list.append(error)"
   ]
  },
  {
   "cell_type": "code",
   "execution_count": 65,
   "metadata": {},
   "outputs": [
    {
     "data": {
      "image/png": "[encoded data removed]",
      "text/plain": [
       "<Figure size 720x504 with 2 Axes>"
      ]
     },
     "metadata": {
      "needs_background": "light"
     },
     "output_type": "display_data"
    }
   ],
   "source": [
    "plt.figure(figsize=(10,7))\n",
    "\n",
    "\n",
    "plt.subplot(2,1,1)\n",
    "plt.bar(label_list, r2_list)\n",
    "plt.title(\"R-squared value by Data Type\")\n",
    "\n",
    "\n",
    "plt.subplot(2,1,2)\n",
    "plt.bar(label_list, error_list)\n",
    "plt.title(\"Root mean squared error by Data Type\")\n",
    "plt.tight_layout()\n"
   ]
  },
  {
   "cell_type": "markdown",
   "metadata": {},
   "source": [
    "So for the features for your chosen model, you can use either the best_numerical_features, best_categorical_features, or best_combined_features variables. The labels will be ames_data[\"SalePrice\"]."
   ]
  }
 ],
 "metadata": {
  "kernelspec": {
   "display_name": "Python 3",
   "language": "python",
   "name": "python3"
  },
  "language_info": {
   "codemirror_mode": {
    "name": "ipython",
    "version": 3
   },
   "file_extension": ".py",
   "mimetype": "text/x-python",
   "name": "python",
   "nbconvert_exporter": "python",
   "pygments_lexer": "ipython3",
   "version": "3.7.3"
  }
 },
 "nbformat": 4,
 "nbformat_minor": 2
}
